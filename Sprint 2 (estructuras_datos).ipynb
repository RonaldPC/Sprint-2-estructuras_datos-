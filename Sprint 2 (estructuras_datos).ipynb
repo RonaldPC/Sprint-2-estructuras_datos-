{
 "cells": [
  {
   "cell_type": "markdown",
   "id": "27527b26",
   "metadata": {},
   "source": [
    "# 1ª PARTE"
   ]
  },
  {
   "cell_type": "code",
   "execution_count": null,
   "id": "9e930c57",
   "metadata": {},
   "outputs": [],
   "source": [
    "##(La asignacióin de los nombres que daré a las variables podrían ser algo extensas, pero para mi\n",
    "##práctica inicial, considero me ayudará a tener mejor visión en la elaboración de los códigos o funciones)"
   ]
  },
  {
   "cell_type": "markdown",
   "id": "10ee2755",
   "metadata": {},
   "source": [
    "## Ejercicio 1"
   ]
  },
  {
   "cell_type": "code",
   "execution_count": null,
   "id": "9794bfe1",
   "metadata": {},
   "outputs": [],
   "source": [
    "lista_meses_año=[['Enero', 'Febrero', 'Marzo'], ['Abril','Mayo', 'Junio'],\\\n",
    "                 ['Julio', 'Agosto', 'Septiembre'], ['Octubre', 'Noviembre', 'Diciembre']]\n",
    "lista_trimestres=['T1', 'T2', 'T3', 'T4']\n",
    "\n",
    "\n",
    "Meses_Trimestre=zip(lista_trimestres, lista_meses_año)\n",
    "list(Meses_Trimestre)"
   ]
  },
  {
   "cell_type": "code",
   "execution_count": null,
   "id": "cb1b5584",
   "metadata": {},
   "outputs": [],
   "source": []
  },
  {
   "cell_type": "markdown",
   "id": "e0d71825",
   "metadata": {},
   "source": [
    "## Ejercicio 2"
   ]
  },
  {
   "cell_type": "code",
   "execution_count": null,
   "id": "3d947d46",
   "metadata": {},
   "outputs": [],
   "source": [
    "## 2º mes trimestre 1º\n",
    "\n",
    "trim=lista_trimestres.index('T1')\n",
    "MesDos_primTrim=lista_meses_año [trim][1]\n",
    "print('El segundo mes del primer trimestre corresponde a: ', MesDos_primTrim)"
   ]
  },
  {
   "cell_type": "code",
   "execution_count": null,
   "id": "0a3aec37",
   "metadata": {},
   "outputs": [],
   "source": [
    "## Meses primer trimestre\n",
    "\n",
    "trim=lista_trimestres.index('T1')\n",
    "Meses_TrimPrimer=lista_meses_año [trim]\n",
    "print('Los meses del primer trimestre corresponden a: ', Meses_TrimPrimer)"
   ]
  },
  {
   "cell_type": "code",
   "execution_count": null,
   "id": "85ab7aa3",
   "metadata": {},
   "outputs": [],
   "source": [
    "## Meses septiembre y octubre (¿acceso mediante índice?)\n",
    "\n",
    "aplanamiento_lista_meses_año=[]\n",
    "\n",
    "\n",
    "for mm in lista_meses_año:\n",
    "    aplanamiento_lista_meses_año += mm\n",
    "print(aplanamiento_lista_meses_año[8:10])\n"
   ]
  },
  {
   "cell_type": "code",
   "execution_count": null,
   "id": "10b46963",
   "metadata": {},
   "outputs": [],
   "source": []
  },
  {
   "cell_type": "markdown",
   "id": "0663fa45",
   "metadata": {},
   "source": [
    "## Ejercicio 3"
   ]
  },
  {
   "cell_type": "code",
   "execution_count": null,
   "id": "877deb67",
   "metadata": {},
   "outputs": [],
   "source": [
    "list_num=[12, 58, 11, 3, 5, 15, 3, 24, 32, 2, 17, 42, 3, 15, 28, 3, 3, 43, 50, 20, 6]\n"
   ]
  },
  {
   "cell_type": "code",
   "execution_count": null,
   "id": "5dae8322",
   "metadata": {},
   "outputs": [],
   "source": [
    "## Longitug lista\n",
    "\n",
    "len(list_num)"
   ]
  },
  {
   "cell_type": "code",
   "execution_count": null,
   "id": "0647f579",
   "metadata": {},
   "outputs": [],
   "source": [
    "## Repetición de un valor (3)\n",
    "print(list_num.count(3))\n"
   ]
  },
  {
   "cell_type": "code",
   "execution_count": null,
   "id": "9c1ee409",
   "metadata": {},
   "outputs": [],
   "source": [
    "# Repetición de dos valores (3 y 4)\n",
    "print(list_num.count(3), list_num.count(4))"
   ]
  },
  {
   "cell_type": "code",
   "execution_count": null,
   "id": "a3d60778",
   "metadata": {},
   "outputs": [],
   "source": [
    "# Valor mayor\n",
    "print(max(list_num))"
   ]
  },
  {
   "cell_type": "code",
   "execution_count": null,
   "id": "2fb43ab9",
   "metadata": {},
   "outputs": [],
   "source": [
    "### Valores más pequeños (3)\n",
    "sin_repet=set()\n",
    "sin_repet=set(list_num)\n",
    "list_num=list(sin_repet)\n",
    "list_num.sort()\n",
    "\n",
    "\n",
    "\n",
    "print(sorted(list_num)[:3])"
   ]
  },
  {
   "cell_type": "code",
   "execution_count": null,
   "id": "8b340250",
   "metadata": {},
   "outputs": [],
   "source": [
    "##Rango de la lista\n",
    "rango_list_num=max(list_num) - min(list_num)\n",
    "print(rango_list_num)"
   ]
  },
  {
   "cell_type": "code",
   "execution_count": null,
   "id": "d7d671c8",
   "metadata": {},
   "outputs": [],
   "source": []
  },
  {
   "cell_type": "markdown",
   "id": "60f9fde6",
   "metadata": {},
   "source": [
    "## Ejercicio 4"
   ]
  },
  {
   "cell_type": "code",
   "execution_count": null,
   "id": "2dcb95dc",
   "metadata": {},
   "outputs": [],
   "source": [
    "compra = { \"Pomes\" : {\"Qty\": 5, \"€\": 0.42}, \"Peres\" : {\"Qty\": 3, \"€\": 0.66} }\n"
   ]
  },
  {
   "cell_type": "code",
   "execution_count": null,
   "id": "3f457c3e",
   "metadata": {},
   "outputs": [],
   "source": [
    "#Añadir una fruta\n",
    "\n",
    "compra[\"Bananas\"] ={\"Qty\": 7, \"€\": 0.28}\n",
    "\n",
    "print(compra)"
   ]
  },
  {
   "cell_type": "code",
   "execution_count": null,
   "id": "b9662583",
   "metadata": {},
   "outputs": [],
   "source": [
    "## Precio total peras\n",
    "\n",
    "cantPer=compra['Peres']['Qty']\n",
    "precPer=compra['Peres']['€']\n",
    "print(\"El precio total de las Peras es de: \", cantPer*precPer)\n"
   ]
  },
  {
   "cell_type": "code",
   "execution_count": null,
   "id": "5e6e8622",
   "metadata": {},
   "outputs": [],
   "source": [
    "## Frutas total\n",
    "\n",
    "sum = 0\n",
    "\n",
    "for clave, valor in compra.items():\n",
    " \n",
    "    if valor and 'Qty' in valor.keys():\n",
    "        sum += valor['Qty']\n",
    "print('La suma total de frutas es: ', sum)"
   ]
  },
  {
   "cell_type": "code",
   "execution_count": null,
   "id": "98a6c773",
   "metadata": {},
   "outputs": [],
   "source": [
    "## Fruta más cara (podría hacerlo también usando el bucle \"for  in\",\n",
    "## como en el ejercicio anterior, pero ahora usaré la función \"lambda\" para reducir)\n",
    "\n",
    "print('La fruta más cara es/son: ') \n",
    "max(compra, key=lambda x: compra[x].get('€'))"
   ]
  }
 ],
 "metadata": {
  "kernelspec": {
   "display_name": "Python 3 (ipykernel)",
   "language": "python",
   "name": "python3"
  },
  "language_info": {
   "codemirror_mode": {
    "name": "ipython",
    "version": 3
   },
   "file_extension": ".py",
   "mimetype": "text/x-python",
   "name": "python",
   "nbconvert_exporter": "python",
   "pygments_lexer": "ipython3",
   "version": "3.10.9"
  }
 },
 "nbformat": 4,
 "nbformat_minor": 5
}
