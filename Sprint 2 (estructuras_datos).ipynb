{
 "cells": [
  {
   "cell_type": "markdown",
   "id": "27527b26",
   "metadata": {},
   "source": [
    "# 1ª PARTE"
   ]
  },
  {
   "cell_type": "markdown",
   "id": "10ee2755",
   "metadata": {},
   "source": [
    "## Ejercicio 1"
   ]
  },
  {
   "cell_type": "markdown",
   "id": "fcdf6f82",
   "metadata": {},
   "source": [
    "### Lista que agrupe los meses del año en trimestres\n",
    "\n"
   ]
  },
  {
   "cell_type": "code",
   "execution_count": 1,
   "id": "9794bfe1",
   "metadata": {},
   "outputs": [
    {
     "name": "stdout",
     "output_type": "stream",
     "text": [
      "[('T1', ['Enero', 'Febrero', 'Marzo']), ('T2', ['Abril', 'Mayo', 'Junio']), ('T3', ['Julio', 'Agosto', 'Septiembre']), ('T4', ['Octubre', 'Noviembre', 'Diciembre'])]\n"
     ]
    }
   ],
   "source": [
    "lista_meses_año=['Enero', 'Febrero', 'Marzo'], ['Abril','Mayo', 'Junio'],\\\n",
    "['Julio', 'Agosto', 'Septiembre'], ['Octubre', 'Noviembre', 'Diciembre']\n",
    "lista_trimestres=['T1', 'T2', 'T3', 'T4']\n",
    "\n",
    "\n",
    "print(list(zip(lista_trimestres, lista_meses_año)))"
   ]
  },
  {
   "cell_type": "code",
   "execution_count": null,
   "id": "d1bd18dd",
   "metadata": {},
   "outputs": [],
   "source": []
  },
  {
   "cell_type": "markdown",
   "id": "e0d71825",
   "metadata": {},
   "source": [
    "## Ejercicio 2"
   ]
  },
  {
   "cell_type": "markdown",
   "id": "65630bb8",
   "metadata": {},
   "source": [
    "### 2º mes del trimestre 1º"
   ]
  },
  {
   "cell_type": "code",
   "execution_count": 2,
   "id": "3d947d46",
   "metadata": {},
   "outputs": [
    {
     "name": "stdout",
     "output_type": "stream",
     "text": [
      "El segundo mes del primer trimestre corresponde a:  Febrero\n"
     ]
    }
   ],
   "source": [
    "trim=lista_trimestres.index('T1')\n",
    "print('El segundo mes del primer trimestre corresponde a: ', lista_meses_año [trim][1])"
   ]
  },
  {
   "cell_type": "code",
   "execution_count": null,
   "id": "a092d70e",
   "metadata": {},
   "outputs": [],
   "source": []
  },
  {
   "cell_type": "markdown",
   "id": "b7204d77",
   "metadata": {},
   "source": [
    "### Meses del primer trimestre"
   ]
  },
  {
   "cell_type": "code",
   "execution_count": 3,
   "id": "7418bb93",
   "metadata": {},
   "outputs": [
    {
     "name": "stdout",
     "output_type": "stream",
     "text": [
      "Los meses del primer trimestre corresponden a:  ['Enero', 'Febrero', 'Marzo']\n"
     ]
    }
   ],
   "source": [
    "trim=lista_trimestres.index('T1')\n",
    "print('Los meses del primer trimestre corresponden a: ', lista_meses_año [trim])"
   ]
  },
  {
   "cell_type": "code",
   "execution_count": null,
   "id": "3ed8d926",
   "metadata": {},
   "outputs": [],
   "source": []
  },
  {
   "cell_type": "markdown",
   "id": "2decc9cd",
   "metadata": {},
   "source": [
    "### Meses 9 y 10 del año "
   ]
  },
  {
   "cell_type": "code",
   "execution_count": 4,
   "id": "85ab7aa3",
   "metadata": {},
   "outputs": [
    {
     "name": "stdout",
     "output_type": "stream",
     "text": [
      "Los meses 9 y 10 corresponden a:  ['Septiembre', 'Octubre']\n"
     ]
    }
   ],
   "source": [
    "aplanamiento_lista_meses_año=[]\n",
    "\n",
    "for mm in lista_meses_año:\n",
    "    aplanamiento_lista_meses_año += mm\n",
    "print('Los meses 9 y 10 corresponden a: ', aplanamiento_lista_meses_año[8:10])\n"
   ]
  },
  {
   "cell_type": "code",
   "execution_count": null,
   "id": "10b46963",
   "metadata": {},
   "outputs": [],
   "source": []
  },
  {
   "cell_type": "markdown",
   "id": "0663fa45",
   "metadata": {},
   "source": [
    "## Ejercicio 3"
   ]
  },
  {
   "cell_type": "code",
   "execution_count": 5,
   "id": "877deb67",
   "metadata": {},
   "outputs": [],
   "source": [
    "list_num=[12, 58, 11, 3, 5, 15, 3, 24, 32, 2, 17, 42, 3, 15, 28, 3, 3, 43, 50, 20, 6]\n"
   ]
  },
  {
   "cell_type": "markdown",
   "id": "f6f29131",
   "metadata": {},
   "source": [
    "### Números que hay en la lista"
   ]
  },
  {
   "cell_type": "code",
   "execution_count": 6,
   "id": "5dae8322",
   "metadata": {},
   "outputs": [
    {
     "name": "stdout",
     "output_type": "stream",
     "text": [
      "La longitud de la lista es de: 21 elementos\n"
     ]
    }
   ],
   "source": [
    "print('La longitud de la lista es de:', len(list_num), 'elementos')"
   ]
  },
  {
   "cell_type": "code",
   "execution_count": null,
   "id": "02fc8bfa",
   "metadata": {},
   "outputs": [],
   "source": []
  },
  {
   "cell_type": "markdown",
   "id": "3f4be0fd",
   "metadata": {},
   "source": [
    "### Número de veces que aparece el número 3"
   ]
  },
  {
   "cell_type": "code",
   "execution_count": 7,
   "id": "0647f579",
   "metadata": {},
   "outputs": [
    {
     "name": "stdout",
     "output_type": "stream",
     "text": [
      "El valor 3 aparece 5 veces\n"
     ]
    }
   ],
   "source": [
    "print('El valor 3 aparece', list_num.count(3), 'veces')"
   ]
  },
  {
   "cell_type": "code",
   "execution_count": null,
   "id": "af888561",
   "metadata": {},
   "outputs": [],
   "source": []
  },
  {
   "cell_type": "markdown",
   "id": "d26c66ec",
   "metadata": {},
   "source": [
    "### Número de veces que aparece el número 3 y el 4"
   ]
  },
  {
   "cell_type": "code",
   "execution_count": 8,
   "id": "ae13ff47",
   "metadata": {},
   "outputs": [
    {
     "name": "stdout",
     "output_type": "stream",
     "text": [
      "Los números 3 y 4 aparecen 5 y 0 veces, respectivamente\n"
     ]
    }
   ],
   "source": [
    "print('Los números 3 y 4 aparecen', list_num.count(3), 'y', list_num.count(4), 'veces, respectivamente')"
   ]
  },
  {
   "cell_type": "code",
   "execution_count": null,
   "id": "c89c752d",
   "metadata": {},
   "outputs": [],
   "source": []
  },
  {
   "cell_type": "markdown",
   "id": "609c6f4d",
   "metadata": {},
   "source": [
    "### Número mayor"
   ]
  },
  {
   "cell_type": "code",
   "execution_count": 9,
   "id": "a3d60778",
   "metadata": {},
   "outputs": [
    {
     "name": "stdout",
     "output_type": "stream",
     "text": [
      "El número mayor de la lista es 58\n"
     ]
    }
   ],
   "source": [
    "print('El número mayor de la lista es', max(list_num))"
   ]
  },
  {
   "cell_type": "code",
   "execution_count": null,
   "id": "f84f50d5",
   "metadata": {},
   "outputs": [],
   "source": []
  },
  {
   "cell_type": "markdown",
   "id": "1631c1f4",
   "metadata": {},
   "source": [
    "### Los 3 números más pequeños de la lista"
   ]
  },
  {
   "cell_type": "code",
   "execution_count": 10,
   "id": "2fb43ab9",
   "metadata": {},
   "outputs": [
    {
     "name": "stdout",
     "output_type": "stream",
     "text": [
      "Los números más pequeños son [2, 3, 5]\n"
     ]
    }
   ],
   "source": [
    "sin_repet=set(list_num)\n",
    "\n",
    "print('Los números más pequeños son', sorted(sin_repet)[:3])"
   ]
  },
  {
   "cell_type": "code",
   "execution_count": null,
   "id": "e33b63b1",
   "metadata": {},
   "outputs": [],
   "source": []
  },
  {
   "cell_type": "markdown",
   "id": "eb22ad0f",
   "metadata": {},
   "source": [
    "### Rango de la lista"
   ]
  },
  {
   "cell_type": "code",
   "execution_count": 11,
   "id": "8b340250",
   "metadata": {},
   "outputs": [
    {
     "name": "stdout",
     "output_type": "stream",
     "text": [
      "El rango de esta lista es de 56\n"
     ]
    }
   ],
   "source": [
    "rango_list_num=max(list_num) - min(list_num)\n",
    "print('El rango de esta lista es de', rango_list_num)"
   ]
  },
  {
   "cell_type": "code",
   "execution_count": null,
   "id": "d7d671c8",
   "metadata": {},
   "outputs": [],
   "source": []
  },
  {
   "cell_type": "markdown",
   "id": "60f9fde6",
   "metadata": {},
   "source": [
    "## Ejercicio 4"
   ]
  },
  {
   "cell_type": "code",
   "execution_count": 12,
   "id": "2dcb95dc",
   "metadata": {},
   "outputs": [],
   "source": [
    "compra = { \"Pomes\" : {\"Qty\": 5, \"€\": 0.42}, \"Peres\" : {\"Qty\": 3, \"€\": 0.66} }"
   ]
  },
  {
   "cell_type": "markdown",
   "id": "5f2b7904",
   "metadata": {},
   "source": [
    "### Añadir una fruta"
   ]
  },
  {
   "cell_type": "code",
   "execution_count": 13,
   "id": "3f457c3e",
   "metadata": {},
   "outputs": [
    {
     "name": "stdout",
     "output_type": "stream",
     "text": [
      "{'Pomes': {'Qty': 5, '€': 0.42}, 'Peres': {'Qty': 3, '€': 0.66}, 'Bananas': {'Qty': 7, '€': 0.28}}\n"
     ]
    }
   ],
   "source": [
    "compra[\"Bananas\"] ={\"Qty\": 7, \"€\": 0.28}\n",
    "\n",
    "print(compra)"
   ]
  },
  {
   "cell_type": "code",
   "execution_count": null,
   "id": "6ef22c28",
   "metadata": {},
   "outputs": [],
   "source": []
  },
  {
   "cell_type": "markdown",
   "id": "9d9d31d9",
   "metadata": {},
   "source": [
    "### Precio total de las peras"
   ]
  },
  {
   "cell_type": "code",
   "execution_count": 14,
   "id": "b9662583",
   "metadata": {},
   "outputs": [
    {
     "name": "stdout",
     "output_type": "stream",
     "text": [
      "El precio total de las Peras es de:  1.98\n"
     ]
    }
   ],
   "source": [
    "cantPer=compra['Peres']['Qty']\n",
    "precPer=compra['Peres']['€']\n",
    "print(\"El precio total de las Peras es de: \", cantPer*precPer)\n"
   ]
  },
  {
   "cell_type": "markdown",
   "id": "d9e0b2f2",
   "metadata": {},
   "source": [
    "### Frutas compradas en total"
   ]
  },
  {
   "cell_type": "code",
   "execution_count": 15,
   "id": "5e6e8622",
   "metadata": {},
   "outputs": [
    {
     "name": "stdout",
     "output_type": "stream",
     "text": [
      "La suma total de frutas es:  15\n"
     ]
    }
   ],
   "source": [
    "sum = 0\n",
    "\n",
    "for clave, valor in compra.items():\n",
    " \n",
    "    if valor and 'Qty' in valor.keys():\n",
    "        sum += valor['Qty']\n",
    "print('La suma total de frutas es: ', sum)"
   ]
  },
  {
   "cell_type": "code",
   "execution_count": null,
   "id": "222f25d3",
   "metadata": {},
   "outputs": [],
   "source": []
  },
  {
   "cell_type": "markdown",
   "id": "593b88a4",
   "metadata": {},
   "source": [
    "### Fruta más cara"
   ]
  },
  {
   "cell_type": "code",
   "execution_count": 16,
   "id": "98a6c773",
   "metadata": {},
   "outputs": [
    {
     "name": "stdout",
     "output_type": "stream",
     "text": [
      "La fruta más cara es/son: \n"
     ]
    },
    {
     "data": {
      "text/plain": [
       "'Peres'"
      ]
     },
     "execution_count": 16,
     "metadata": {},
     "output_type": "execute_result"
    }
   ],
   "source": [
    "## Podría hacerlo también usando el bucle \"for  in\",\n",
    "## como en el ejercicio anterior, pero ahora usaré la función \"lambda\" para reducir el código\n",
    "\n",
    "print('La fruta más cara es/son: ') \n",
    "max(compra, key=lambda x: compra[x].get('€'))"
   ]
  },
  {
   "cell_type": "code",
   "execution_count": null,
   "id": "3b9c5d2c",
   "metadata": {},
   "outputs": [],
   "source": []
  }
 ],
 "metadata": {
  "kernelspec": {
   "display_name": "Python 3 (ipykernel)",
   "language": "python",
   "name": "python3"
  },
  "language_info": {
   "codemirror_mode": {
    "name": "ipython",
    "version": 3
   },
   "file_extension": ".py",
   "mimetype": "text/x-python",
   "name": "python",
   "nbconvert_exporter": "python",
   "pygments_lexer": "ipython3",
   "version": "3.10.9"
  }
 },
 "nbformat": 4,
 "nbformat_minor": 5
}
